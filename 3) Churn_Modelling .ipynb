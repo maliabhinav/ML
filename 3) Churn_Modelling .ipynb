{
 "cells": [
  {
   "cell_type": "code",
   "execution_count": 74,
   "id": "35581b4a-4a49-4efd-a50b-2ba112ac98ba",
   "metadata": {},
   "outputs": [],
   "source": [
    "# Importing required libraries\n",
    "import pandas as pd\n",
    "import numpy as np\n",
    "import matplotlib.pyplot as plt\n",
    "import seaborn as sns"
   ]
  },
  {
   "cell_type": "code",
   "execution_count": 75,
   "id": "ca84c24c-5826-45f5-afa2-d01e974964c1",
   "metadata": {},
   "outputs": [],
   "source": [
    "# Loading data into dataframe\n",
    "Data_frame = pd.read_csv(\"Churn_Modelling.csv\")"
   ]
  },
  {
   "cell_type": "code",
   "execution_count": 76,
   "id": "dcb6711d-f268-4eb4-a064-a67fa02b0f00",
   "metadata": {},
   "outputs": [
    {
     "name": "stdout",
     "output_type": "stream",
     "text": [
      "<class 'pandas.core.frame.DataFrame'>\n",
      "RangeIndex: 10000 entries, 0 to 9999\n",
      "Data columns (total 14 columns):\n",
      " #   Column           Non-Null Count  Dtype  \n",
      "---  ------           --------------  -----  \n",
      " 0   RowNumber        10000 non-null  int64  \n",
      " 1   CustomerId       10000 non-null  int64  \n",
      " 2   Surname          10000 non-null  object \n",
      " 3   CreditScore      10000 non-null  int64  \n",
      " 4   Geography        10000 non-null  object \n",
      " 5   Gender           10000 non-null  object \n",
      " 6   Age              10000 non-null  int64  \n",
      " 7   Tenure           10000 non-null  int64  \n",
      " 8   Balance          10000 non-null  float64\n",
      " 9   NumOfProducts    10000 non-null  int64  \n",
      " 10  HasCrCard        10000 non-null  int64  \n",
      " 11  IsActiveMember   10000 non-null  int64  \n",
      " 12  EstimatedSalary  10000 non-null  float64\n",
      " 13  Exited           10000 non-null  int64  \n",
      "dtypes: float64(2), int64(9), object(3)\n",
      "memory usage: 1.1+ MB\n"
     ]
    }
   ],
   "source": [
    "# Basic infomation about data\n",
    "Data_frame.info()"
   ]
  },
  {
   "cell_type": "code",
   "execution_count": 77,
   "id": "0ac542a8-4ae4-4262-b319-6272b5b721d5",
   "metadata": {},
   "outputs": [],
   "source": [
    "# Making dataframe copy to prevent original data\n",
    "Data_frame_copy = Data_frame.copy()"
   ]
  },
  {
   "cell_type": "code",
   "execution_count": 78,
   "id": "486ed605-e576-45f6-b819-aaabb2edd6c3",
   "metadata": {},
   "outputs": [],
   "source": [
    "# Using label encoder to encode columns like Geography and Gender which are object type\n",
    "from sklearn.preprocessing import LabelEncoder\n",
    "LE = LabelEncoder()\n",
    "Selected_columns = [\"Geography\",\"Gender\"]\n",
    "for column in Selected_columns:\n",
    "    Data_frame_copy[column] = LE.fit_transform(Data_frame_copy[column])"
   ]
  },
  {
   "cell_type": "code",
   "execution_count": 79,
   "id": "d499c506-66b6-40da-97ae-b60d880866f7",
   "metadata": {},
   "outputs": [],
   "source": [
    "# Droping columns which are not required for model building\n",
    "Data_frame_copy.drop(columns=['RowNumber','CustomerId','Surname'],inplace=True)"
   ]
  },
  {
   "cell_type": "code",
   "execution_count": 80,
   "id": "120ea19b-5854-4641-8213-042b58b04546",
   "metadata": {},
   "outputs": [],
   "source": [
    "# Spliting data into Independent and Dependent variables\n",
    "y = Data_frame_copy.Exited.values\n",
    "x = Data_frame_copy.drop(columns=['Exited'])"
   ]
  },
  {
   "cell_type": "code",
   "execution_count": 81,
   "id": "e0eaf558-4802-449c-b054-6b93cbb949f2",
   "metadata": {},
   "outputs": [],
   "source": [
    "# Spliting data into training and testing data\n",
    "from sklearn.model_selection import train_test_split\n",
    "x_train,x_test,y_train,y_test = train_test_split(x,y,random_state=20,test_size=0.25)"
   ]
  },
  {
   "cell_type": "code",
   "execution_count": 82,
   "id": "851ba4b9-42d6-4720-9011-1cd5e03a7ea9",
   "metadata": {},
   "outputs": [],
   "source": [
    "from sklearn.preprocessing import StandardScaler\n",
    "std_x = StandardScaler()\n",
    "x_train = std_x.fit_transform(x_train)\n",
    "x_test = std_x.transform(x_test)"
   ]
  },
  {
   "cell_type": "code",
   "execution_count": 83,
   "id": "36ab4eac-47c8-4499-b1d3-425b6be77466",
   "metadata": {},
   "outputs": [],
   "source": [
    "# Importing libraries required for building neural network\n",
    "import tensorflow as tf\n",
    "from tensorflow.keras.layers import Dense,Conv1D,Flatten\n",
    "from tensorflow.keras.models import Sequential, Model"
   ]
  },
  {
   "cell_type": "code",
   "execution_count": 84,
   "id": "ad18a6a8-c235-4dc9-b8cd-120e271eacc6",
   "metadata": {},
   "outputs": [
    {
     "name": "stderr",
     "output_type": "stream",
     "text": [
      "C:\\Users\\SURAJ\\anaconda3\\Lib\\site-packages\\keras\\src\\layers\\reshaping\\flatten.py:37: UserWarning: Do not pass an `input_shape`/`input_dim` argument to a layer. When using Sequential models, prefer using an `Input(shape)` object as the first layer in the model instead.\n",
      "  super().__init__(**kwargs)\n"
     ]
    }
   ],
   "source": [
    "# Defining neural network structure\n",
    "# First input layer which as 10 nodes for input of 10 variables\n",
    "# Second hidden layer having 100 nodes and relu as activation function (read about different activation funcitons like sigmoid, tanh, and more\n",
    "# Output layer having one node which return value between 0 to 1\n",
    "model=Sequential()\n",
    "model.add(Flatten(input_shape=(10,)))\n",
    "model.add(Dense(100,activation='relu'))\n",
    "model.add(Dense(1,activation='sigmoid'))"
   ]
  },
  {
   "cell_type": "code",
   "execution_count": 85,
   "id": "5e5a20ce-e285-4480-ab5f-42dc540043a9",
   "metadata": {},
   "outputs": [],
   "source": [
    "# Compiling model using adam optimizer (read about different optimizer)\n",
    "model.compile(optimizer='adam',metrics=['accuracy'],loss='BinaryCrossentropy')"
   ]
  },
  {
   "cell_type": "code",
   "execution_count": 86,
   "id": "9075c764-c022-48d1-81c6-6300503a7fcc",
   "metadata": {},
   "outputs": [
    {
     "name": "stdout",
     "output_type": "stream",
     "text": [
      "Epoch 1/100\n",
      "\u001b[1m106/106\u001b[0m \u001b[32m━━━━━━━━━━━━━━━━━━━━\u001b[0m\u001b[37m\u001b[0m \u001b[1m1s\u001b[0m 4ms/step - accuracy: 0.5783 - loss: 0.6578 - val_accuracy: 0.8120 - val_loss: 0.4433\n",
      "Epoch 2/100\n",
      "\u001b[1m106/106\u001b[0m \u001b[32m━━━━━━━━━━━━━━━━━━━━\u001b[0m\u001b[37m\u001b[0m \u001b[1m0s\u001b[0m 2ms/step - accuracy: 0.8091 - loss: 0.4363 - val_accuracy: 0.8267 - val_loss: 0.4116\n",
      "Epoch 3/100\n",
      "\u001b[1m106/106\u001b[0m \u001b[32m━━━━━━━━━━━━━━━━━━━━\u001b[0m\u001b[37m\u001b[0m \u001b[1m0s\u001b[0m 2ms/step - accuracy: 0.8262 - loss: 0.4094 - val_accuracy: 0.8333 - val_loss: 0.3924\n",
      "Epoch 4/100\n",
      "\u001b[1m106/106\u001b[0m \u001b[32m━━━━━━━━━━━━━━━━━━━━\u001b[0m\u001b[37m\u001b[0m \u001b[1m0s\u001b[0m 1ms/step - accuracy: 0.8364 - loss: 0.4013 - val_accuracy: 0.8467 - val_loss: 0.3781\n",
      "Epoch 5/100\n",
      "\u001b[1m106/106\u001b[0m \u001b[32m━━━━━━━━━━━━━━━━━━━━\u001b[0m\u001b[37m\u001b[0m \u001b[1m0s\u001b[0m 1ms/step - accuracy: 0.8429 - loss: 0.3827 - val_accuracy: 0.8627 - val_loss: 0.3632\n",
      "Epoch 6/100\n",
      "\u001b[1m106/106\u001b[0m \u001b[32m━━━━━━━━━━━━━━━━━━━━\u001b[0m\u001b[37m\u001b[0m \u001b[1m0s\u001b[0m 1ms/step - accuracy: 0.8420 - loss: 0.3811 - val_accuracy: 0.8680 - val_loss: 0.3506\n",
      "Epoch 7/100\n",
      "\u001b[1m106/106\u001b[0m \u001b[32m━━━━━━━━━━━━━━━━━━━━\u001b[0m\u001b[37m\u001b[0m \u001b[1m0s\u001b[0m 1ms/step - accuracy: 0.8486 - loss: 0.3631 - val_accuracy: 0.8627 - val_loss: 0.3446\n",
      "Epoch 8/100\n",
      "\u001b[1m106/106\u001b[0m \u001b[32m━━━━━━━━━━━━━━━━━━━━\u001b[0m\u001b[37m\u001b[0m \u001b[1m0s\u001b[0m 2ms/step - accuracy: 0.8481 - loss: 0.3593 - val_accuracy: 0.8693 - val_loss: 0.3358\n",
      "Epoch 9/100\n",
      "\u001b[1m106/106\u001b[0m \u001b[32m━━━━━━━━━━━━━━━━━━━━\u001b[0m\u001b[37m\u001b[0m \u001b[1m0s\u001b[0m 1ms/step - accuracy: 0.8473 - loss: 0.3651 - val_accuracy: 0.8667 - val_loss: 0.3303\n",
      "Epoch 10/100\n",
      "\u001b[1m106/106\u001b[0m \u001b[32m━━━━━━━━━━━━━━━━━━━━\u001b[0m\u001b[37m\u001b[0m \u001b[1m0s\u001b[0m 1ms/step - accuracy: 0.8537 - loss: 0.3567 - val_accuracy: 0.8773 - val_loss: 0.3262\n",
      "Epoch 11/100\n",
      "\u001b[1m106/106\u001b[0m \u001b[32m━━━━━━━━━━━━━━━━━━━━\u001b[0m\u001b[37m\u001b[0m \u001b[1m0s\u001b[0m 2ms/step - accuracy: 0.8526 - loss: 0.3477 - val_accuracy: 0.8760 - val_loss: 0.3248\n",
      "Epoch 12/100\n",
      "\u001b[1m106/106\u001b[0m \u001b[32m━━━━━━━━━━━━━━━━━━━━\u001b[0m\u001b[37m\u001b[0m \u001b[1m0s\u001b[0m 1ms/step - accuracy: 0.8393 - loss: 0.3693 - val_accuracy: 0.8760 - val_loss: 0.3225\n",
      "Epoch 13/100\n",
      "\u001b[1m106/106\u001b[0m \u001b[32m━━━━━━━━━━━━━━━━━━━━\u001b[0m\u001b[37m\u001b[0m \u001b[1m0s\u001b[0m 1ms/step - accuracy: 0.8592 - loss: 0.3466 - val_accuracy: 0.8720 - val_loss: 0.3241\n",
      "Epoch 14/100\n",
      "\u001b[1m106/106\u001b[0m \u001b[32m━━━━━━━━━━━━━━━━━━━━\u001b[0m\u001b[37m\u001b[0m \u001b[1m0s\u001b[0m 1ms/step - accuracy: 0.8573 - loss: 0.3381 - val_accuracy: 0.8773 - val_loss: 0.3271\n",
      "Epoch 15/100\n",
      "\u001b[1m106/106\u001b[0m \u001b[32m━━━━━━━━━━━━━━━━━━━━\u001b[0m\u001b[37m\u001b[0m \u001b[1m0s\u001b[0m 1ms/step - accuracy: 0.8540 - loss: 0.3461 - val_accuracy: 0.8733 - val_loss: 0.3230\n",
      "Epoch 16/100\n",
      "\u001b[1m106/106\u001b[0m \u001b[32m━━━━━━━━━━━━━━━━━━━━\u001b[0m\u001b[37m\u001b[0m \u001b[1m0s\u001b[0m 1ms/step - accuracy: 0.8528 - loss: 0.3472 - val_accuracy: 0.8747 - val_loss: 0.3203\n",
      "Epoch 17/100\n",
      "\u001b[1m106/106\u001b[0m \u001b[32m━━━━━━━━━━━━━━━━━━━━\u001b[0m\u001b[37m\u001b[0m \u001b[1m0s\u001b[0m 1ms/step - accuracy: 0.8635 - loss: 0.3374 - val_accuracy: 0.8747 - val_loss: 0.3217\n",
      "Epoch 18/100\n",
      "\u001b[1m106/106\u001b[0m \u001b[32m━━━━━━━━━━━━━━━━━━━━\u001b[0m\u001b[37m\u001b[0m \u001b[1m0s\u001b[0m 1ms/step - accuracy: 0.8521 - loss: 0.3500 - val_accuracy: 0.8747 - val_loss: 0.3196\n",
      "Epoch 19/100\n",
      "\u001b[1m106/106\u001b[0m \u001b[32m━━━━━━━━━━━━━━━━━━━━\u001b[0m\u001b[37m\u001b[0m \u001b[1m0s\u001b[0m 1ms/step - accuracy: 0.8538 - loss: 0.3474 - val_accuracy: 0.8747 - val_loss: 0.3171\n",
      "Epoch 20/100\n",
      "\u001b[1m106/106\u001b[0m \u001b[32m━━━━━━━━━━━━━━━━━━━━\u001b[0m\u001b[37m\u001b[0m \u001b[1m0s\u001b[0m 1ms/step - accuracy: 0.8591 - loss: 0.3451 - val_accuracy: 0.8760 - val_loss: 0.3195\n",
      "Epoch 21/100\n",
      "\u001b[1m106/106\u001b[0m \u001b[32m━━━━━━━━━━━━━━━━━━━━\u001b[0m\u001b[37m\u001b[0m \u001b[1m0s\u001b[0m 1ms/step - accuracy: 0.8583 - loss: 0.3434 - val_accuracy: 0.8747 - val_loss: 0.3171\n",
      "Epoch 22/100\n",
      "\u001b[1m106/106\u001b[0m \u001b[32m━━━━━━━━━━━━━━━━━━━━\u001b[0m\u001b[37m\u001b[0m \u001b[1m0s\u001b[0m 1ms/step - accuracy: 0.8545 - loss: 0.3438 - val_accuracy: 0.8773 - val_loss: 0.3159\n",
      "Epoch 23/100\n",
      "\u001b[1m106/106\u001b[0m \u001b[32m━━━━━━━━━━━━━━━━━━━━\u001b[0m\u001b[37m\u001b[0m \u001b[1m0s\u001b[0m 1ms/step - accuracy: 0.8534 - loss: 0.3473 - val_accuracy: 0.8747 - val_loss: 0.3206\n",
      "Epoch 24/100\n",
      "\u001b[1m106/106\u001b[0m \u001b[32m━━━━━━━━━━━━━━━━━━━━\u001b[0m\u001b[37m\u001b[0m \u001b[1m0s\u001b[0m 1ms/step - accuracy: 0.8550 - loss: 0.3476 - val_accuracy: 0.8787 - val_loss: 0.3194\n",
      "Epoch 25/100\n",
      "\u001b[1m106/106\u001b[0m \u001b[32m━━━━━━━━━━━━━━━━━━━━\u001b[0m\u001b[37m\u001b[0m \u001b[1m0s\u001b[0m 1ms/step - accuracy: 0.8576 - loss: 0.3412 - val_accuracy: 0.8747 - val_loss: 0.3171\n",
      "Epoch 26/100\n",
      "\u001b[1m106/106\u001b[0m \u001b[32m━━━━━━━━━━━━━━━━━━━━\u001b[0m\u001b[37m\u001b[0m \u001b[1m0s\u001b[0m 1ms/step - accuracy: 0.8510 - loss: 0.3538 - val_accuracy: 0.8747 - val_loss: 0.3214\n",
      "Epoch 27/100\n",
      "\u001b[1m106/106\u001b[0m \u001b[32m━━━━━━━━━━━━━━━━━━━━\u001b[0m\u001b[37m\u001b[0m \u001b[1m0s\u001b[0m 2ms/step - accuracy: 0.8504 - loss: 0.3464 - val_accuracy: 0.8787 - val_loss: 0.3186\n",
      "Epoch 28/100\n",
      "\u001b[1m106/106\u001b[0m \u001b[32m━━━━━━━━━━━━━━━━━━━━\u001b[0m\u001b[37m\u001b[0m \u001b[1m0s\u001b[0m 1ms/step - accuracy: 0.8617 - loss: 0.3345 - val_accuracy: 0.8813 - val_loss: 0.3193\n",
      "Epoch 29/100\n",
      "\u001b[1m106/106\u001b[0m \u001b[32m━━━━━━━━━━━━━━━━━━━━\u001b[0m\u001b[37m\u001b[0m \u001b[1m0s\u001b[0m 1ms/step - accuracy: 0.8545 - loss: 0.3466 - val_accuracy: 0.8773 - val_loss: 0.3184\n",
      "Epoch 30/100\n",
      "\u001b[1m106/106\u001b[0m \u001b[32m━━━━━━━━━━━━━━━━━━━━\u001b[0m\u001b[37m\u001b[0m \u001b[1m0s\u001b[0m 1ms/step - accuracy: 0.8576 - loss: 0.3525 - val_accuracy: 0.8733 - val_loss: 0.3193\n",
      "Epoch 31/100\n",
      "\u001b[1m106/106\u001b[0m \u001b[32m━━━━━━━━━━━━━━━━━━━━\u001b[0m\u001b[37m\u001b[0m \u001b[1m0s\u001b[0m 1ms/step - accuracy: 0.8613 - loss: 0.3406 - val_accuracy: 0.8773 - val_loss: 0.3164\n",
      "Epoch 32/100\n",
      "\u001b[1m106/106\u001b[0m \u001b[32m━━━━━━━━━━━━━━━━━━━━\u001b[0m\u001b[37m\u001b[0m \u001b[1m0s\u001b[0m 1ms/step - accuracy: 0.8577 - loss: 0.3333 - val_accuracy: 0.8787 - val_loss: 0.3186\n",
      "Epoch 33/100\n",
      "\u001b[1m106/106\u001b[0m \u001b[32m━━━━━━━━━━━━━━━━━━━━\u001b[0m\u001b[37m\u001b[0m \u001b[1m0s\u001b[0m 2ms/step - accuracy: 0.8667 - loss: 0.3308 - val_accuracy: 0.8787 - val_loss: 0.3172\n",
      "Epoch 34/100\n",
      "\u001b[1m106/106\u001b[0m \u001b[32m━━━━━━━━━━━━━━━━━━━━\u001b[0m\u001b[37m\u001b[0m \u001b[1m0s\u001b[0m 1ms/step - accuracy: 0.8679 - loss: 0.3268 - val_accuracy: 0.8840 - val_loss: 0.3243\n",
      "Epoch 35/100\n",
      "\u001b[1m106/106\u001b[0m \u001b[32m━━━━━━━━━━━━━━━━━━━━\u001b[0m\u001b[37m\u001b[0m \u001b[1m0s\u001b[0m 2ms/step - accuracy: 0.8578 - loss: 0.3382 - val_accuracy: 0.8760 - val_loss: 0.3178\n",
      "Epoch 36/100\n",
      "\u001b[1m106/106\u001b[0m \u001b[32m━━━━━━━━━━━━━━━━━━━━\u001b[0m\u001b[37m\u001b[0m \u001b[1m0s\u001b[0m 2ms/step - accuracy: 0.8529 - loss: 0.3490 - val_accuracy: 0.8827 - val_loss: 0.3214\n",
      "Epoch 37/100\n",
      "\u001b[1m106/106\u001b[0m \u001b[32m━━━━━━━━━━━━━━━━━━━━\u001b[0m\u001b[37m\u001b[0m \u001b[1m0s\u001b[0m 1ms/step - accuracy: 0.8638 - loss: 0.3317 - val_accuracy: 0.8800 - val_loss: 0.3184\n",
      "Epoch 38/100\n",
      "\u001b[1m106/106\u001b[0m \u001b[32m━━━━━━━━━━━━━━━━━━━━\u001b[0m\u001b[37m\u001b[0m \u001b[1m0s\u001b[0m 1ms/step - accuracy: 0.8617 - loss: 0.3308 - val_accuracy: 0.8747 - val_loss: 0.3190\n",
      "Epoch 39/100\n",
      "\u001b[1m106/106\u001b[0m \u001b[32m━━━━━━━━━━━━━━━━━━━━\u001b[0m\u001b[37m\u001b[0m \u001b[1m0s\u001b[0m 1ms/step - accuracy: 0.8649 - loss: 0.3294 - val_accuracy: 0.8800 - val_loss: 0.3228\n",
      "Epoch 40/100\n",
      "\u001b[1m106/106\u001b[0m \u001b[32m━━━━━━━━━━━━━━━━━━━━\u001b[0m\u001b[37m\u001b[0m \u001b[1m0s\u001b[0m 1ms/step - accuracy: 0.8489 - loss: 0.3458 - val_accuracy: 0.8773 - val_loss: 0.3183\n",
      "Epoch 41/100\n",
      "\u001b[1m106/106\u001b[0m \u001b[32m━━━━━━━━━━━━━━━━━━━━\u001b[0m\u001b[37m\u001b[0m \u001b[1m0s\u001b[0m 1ms/step - accuracy: 0.8623 - loss: 0.3384 - val_accuracy: 0.8827 - val_loss: 0.3213\n",
      "Epoch 42/100\n",
      "\u001b[1m106/106\u001b[0m \u001b[32m━━━━━━━━━━━━━━━━━━━━\u001b[0m\u001b[37m\u001b[0m \u001b[1m0s\u001b[0m 1ms/step - accuracy: 0.8641 - loss: 0.3187 - val_accuracy: 0.8787 - val_loss: 0.3211\n",
      "Epoch 43/100\n",
      "\u001b[1m106/106\u001b[0m \u001b[32m━━━━━━━━━━━━━━━━━━━━\u001b[0m\u001b[37m\u001b[0m \u001b[1m0s\u001b[0m 1ms/step - accuracy: 0.8593 - loss: 0.3388 - val_accuracy: 0.8760 - val_loss: 0.3184\n",
      "Epoch 44/100\n",
      "\u001b[1m106/106\u001b[0m \u001b[32m━━━━━━━━━━━━━━━━━━━━\u001b[0m\u001b[37m\u001b[0m \u001b[1m0s\u001b[0m 1ms/step - accuracy: 0.8543 - loss: 0.3393 - val_accuracy: 0.8773 - val_loss: 0.3160\n",
      "Epoch 45/100\n",
      "\u001b[1m106/106\u001b[0m \u001b[32m━━━━━━━━━━━━━━━━━━━━\u001b[0m\u001b[37m\u001b[0m \u001b[1m0s\u001b[0m 1ms/step - accuracy: 0.8610 - loss: 0.3253 - val_accuracy: 0.8813 - val_loss: 0.3168\n",
      "Epoch 46/100\n",
      "\u001b[1m106/106\u001b[0m \u001b[32m━━━━━━━━━━━━━━━━━━━━\u001b[0m\u001b[37m\u001b[0m \u001b[1m0s\u001b[0m 1ms/step - accuracy: 0.8650 - loss: 0.3325 - val_accuracy: 0.8787 - val_loss: 0.3173\n",
      "Epoch 47/100\n",
      "\u001b[1m106/106\u001b[0m \u001b[32m━━━━━━━━━━━━━━━━━━━━\u001b[0m\u001b[37m\u001b[0m \u001b[1m0s\u001b[0m 1ms/step - accuracy: 0.8657 - loss: 0.3186 - val_accuracy: 0.8880 - val_loss: 0.3226\n",
      "Epoch 48/100\n",
      "\u001b[1m106/106\u001b[0m \u001b[32m━━━━━━━━━━━━━━━━━━━━\u001b[0m\u001b[37m\u001b[0m \u001b[1m0s\u001b[0m 1ms/step - accuracy: 0.8622 - loss: 0.3357 - val_accuracy: 0.8760 - val_loss: 0.3157\n",
      "Epoch 49/100\n",
      "\u001b[1m106/106\u001b[0m \u001b[32m━━━━━━━━━━━━━━━━━━━━\u001b[0m\u001b[37m\u001b[0m \u001b[1m0s\u001b[0m 1ms/step - accuracy: 0.8648 - loss: 0.3298 - val_accuracy: 0.8760 - val_loss: 0.3174\n",
      "Epoch 50/100\n",
      "\u001b[1m106/106\u001b[0m \u001b[32m━━━━━━━━━━━━━━━━━━━━\u001b[0m\u001b[37m\u001b[0m \u001b[1m0s\u001b[0m 1ms/step - accuracy: 0.8596 - loss: 0.3413 - val_accuracy: 0.8747 - val_loss: 0.3131\n",
      "Epoch 51/100\n",
      "\u001b[1m106/106\u001b[0m \u001b[32m━━━━━━━━━━━━━━━━━━━━\u001b[0m\u001b[37m\u001b[0m \u001b[1m0s\u001b[0m 1ms/step - accuracy: 0.8583 - loss: 0.3314 - val_accuracy: 0.8787 - val_loss: 0.3151\n",
      "Epoch 52/100\n",
      "\u001b[1m106/106\u001b[0m \u001b[32m━━━━━━━━━━━━━━━━━━━━\u001b[0m\u001b[37m\u001b[0m \u001b[1m0s\u001b[0m 1ms/step - accuracy: 0.8693 - loss: 0.3200 - val_accuracy: 0.8760 - val_loss: 0.3190\n",
      "Epoch 53/100\n",
      "\u001b[1m106/106\u001b[0m \u001b[32m━━━━━━━━━━━━━━━━━━━━\u001b[0m\u001b[37m\u001b[0m \u001b[1m0s\u001b[0m 2ms/step - accuracy: 0.8692 - loss: 0.3163 - val_accuracy: 0.8747 - val_loss: 0.3188\n",
      "Epoch 54/100\n",
      "\u001b[1m106/106\u001b[0m \u001b[32m━━━━━━━━━━━━━━━━━━━━\u001b[0m\u001b[37m\u001b[0m \u001b[1m0s\u001b[0m 1ms/step - accuracy: 0.8604 - loss: 0.3298 - val_accuracy: 0.8733 - val_loss: 0.3153\n",
      "Epoch 55/100\n",
      "\u001b[1m106/106\u001b[0m \u001b[32m━━━━━━━━━━━━━━━━━━━━\u001b[0m\u001b[37m\u001b[0m \u001b[1m0s\u001b[0m 1ms/step - accuracy: 0.8654 - loss: 0.3302 - val_accuracy: 0.8787 - val_loss: 0.3138\n",
      "Epoch 56/100\n",
      "\u001b[1m106/106\u001b[0m \u001b[32m━━━━━━━━━━━━━━━━━━━━\u001b[0m\u001b[37m\u001b[0m \u001b[1m0s\u001b[0m 1ms/step - accuracy: 0.8617 - loss: 0.3298 - val_accuracy: 0.8773 - val_loss: 0.3140\n",
      "Epoch 57/100\n",
      "\u001b[1m106/106\u001b[0m \u001b[32m━━━━━━━━━━━━━━━━━━━━\u001b[0m\u001b[37m\u001b[0m \u001b[1m0s\u001b[0m 1ms/step - accuracy: 0.8614 - loss: 0.3275 - val_accuracy: 0.8840 - val_loss: 0.3147\n",
      "Epoch 58/100\n",
      "\u001b[1m106/106\u001b[0m \u001b[32m━━━━━━━━━━━━━━━━━━━━\u001b[0m\u001b[37m\u001b[0m \u001b[1m0s\u001b[0m 1ms/step - accuracy: 0.8662 - loss: 0.3157 - val_accuracy: 0.8747 - val_loss: 0.3168\n",
      "Epoch 59/100\n",
      "\u001b[1m106/106\u001b[0m \u001b[32m━━━━━━━━━━━━━━━━━━━━\u001b[0m\u001b[37m\u001b[0m \u001b[1m0s\u001b[0m 2ms/step - accuracy: 0.8588 - loss: 0.3341 - val_accuracy: 0.8800 - val_loss: 0.3140\n",
      "Epoch 60/100\n",
      "\u001b[1m106/106\u001b[0m \u001b[32m━━━━━━━━━━━━━━━━━━━━\u001b[0m\u001b[37m\u001b[0m \u001b[1m0s\u001b[0m 1ms/step - accuracy: 0.8667 - loss: 0.3249 - val_accuracy: 0.8760 - val_loss: 0.3143\n",
      "Epoch 61/100\n",
      "\u001b[1m106/106\u001b[0m \u001b[32m━━━━━━━━━━━━━━━━━━━━\u001b[0m\u001b[37m\u001b[0m \u001b[1m0s\u001b[0m 1ms/step - accuracy: 0.8616 - loss: 0.3280 - val_accuracy: 0.8800 - val_loss: 0.3158\n",
      "Epoch 62/100\n",
      "\u001b[1m106/106\u001b[0m \u001b[32m━━━━━━━━━━━━━━━━━━━━\u001b[0m\u001b[37m\u001b[0m \u001b[1m0s\u001b[0m 2ms/step - accuracy: 0.8672 - loss: 0.3242 - val_accuracy: 0.8813 - val_loss: 0.3144\n",
      "Epoch 63/100\n",
      "\u001b[1m106/106\u001b[0m \u001b[32m━━━━━━━━━━━━━━━━━━━━\u001b[0m\u001b[37m\u001b[0m \u001b[1m0s\u001b[0m 2ms/step - accuracy: 0.8631 - loss: 0.3262 - val_accuracy: 0.8840 - val_loss: 0.3187\n",
      "Epoch 64/100\n",
      "\u001b[1m106/106\u001b[0m \u001b[32m━━━━━━━━━━━━━━━━━━━━\u001b[0m\u001b[37m\u001b[0m \u001b[1m0s\u001b[0m 1ms/step - accuracy: 0.8661 - loss: 0.3257 - val_accuracy: 0.8840 - val_loss: 0.3130\n",
      "Epoch 65/100\n",
      "\u001b[1m106/106\u001b[0m \u001b[32m━━━━━━━━━━━━━━━━━━━━\u001b[0m\u001b[37m\u001b[0m \u001b[1m0s\u001b[0m 2ms/step - accuracy: 0.8694 - loss: 0.3164 - val_accuracy: 0.8813 - val_loss: 0.3133\n",
      "Epoch 66/100\n",
      "\u001b[1m106/106\u001b[0m \u001b[32m━━━━━━━━━━━━━━━━━━━━\u001b[0m\u001b[37m\u001b[0m \u001b[1m0s\u001b[0m 2ms/step - accuracy: 0.8646 - loss: 0.3219 - val_accuracy: 0.8773 - val_loss: 0.3121\n",
      "Epoch 67/100\n",
      "\u001b[1m106/106\u001b[0m \u001b[32m━━━━━━━━━━━━━━━━━━━━\u001b[0m\u001b[37m\u001b[0m \u001b[1m0s\u001b[0m 2ms/step - accuracy: 0.8666 - loss: 0.3127 - val_accuracy: 0.8867 - val_loss: 0.3164\n",
      "Epoch 68/100\n",
      "\u001b[1m106/106\u001b[0m \u001b[32m━━━━━━━━━━━━━━━━━━━━\u001b[0m\u001b[37m\u001b[0m \u001b[1m0s\u001b[0m 1ms/step - accuracy: 0.8677 - loss: 0.3166 - val_accuracy: 0.8840 - val_loss: 0.3157\n",
      "Epoch 69/100\n",
      "\u001b[1m106/106\u001b[0m \u001b[32m━━━━━━━━━━━━━━━━━━━━\u001b[0m\u001b[37m\u001b[0m \u001b[1m0s\u001b[0m 2ms/step - accuracy: 0.8592 - loss: 0.3332 - val_accuracy: 0.8800 - val_loss: 0.3154\n",
      "Epoch 70/100\n",
      "\u001b[1m106/106\u001b[0m \u001b[32m━━━━━━━━━━━━━━━━━━━━\u001b[0m\u001b[37m\u001b[0m \u001b[1m0s\u001b[0m 1ms/step - accuracy: 0.8688 - loss: 0.3171 - val_accuracy: 0.8773 - val_loss: 0.3139\n",
      "Epoch 71/100\n",
      "\u001b[1m106/106\u001b[0m \u001b[32m━━━━━━━━━━━━━━━━━━━━\u001b[0m\u001b[37m\u001b[0m \u001b[1m0s\u001b[0m 1ms/step - accuracy: 0.8693 - loss: 0.3176 - val_accuracy: 0.8893 - val_loss: 0.3115\n",
      "Epoch 72/100\n",
      "\u001b[1m106/106\u001b[0m \u001b[32m━━━━━━━━━━━━━━━━━━━━\u001b[0m\u001b[37m\u001b[0m \u001b[1m0s\u001b[0m 1ms/step - accuracy: 0.8689 - loss: 0.3199 - val_accuracy: 0.8853 - val_loss: 0.3157\n",
      "Epoch 73/100\n",
      "\u001b[1m106/106\u001b[0m \u001b[32m━━━━━━━━━━━━━━━━━━━━\u001b[0m\u001b[37m\u001b[0m \u001b[1m0s\u001b[0m 2ms/step - accuracy: 0.8639 - loss: 0.3224 - val_accuracy: 0.8800 - val_loss: 0.3133\n",
      "Epoch 74/100\n",
      "\u001b[1m106/106\u001b[0m \u001b[32m━━━━━━━━━━━━━━━━━━━━\u001b[0m\u001b[37m\u001b[0m \u001b[1m0s\u001b[0m 2ms/step - accuracy: 0.8692 - loss: 0.3188 - val_accuracy: 0.8827 - val_loss: 0.3152\n",
      "Epoch 75/100\n",
      "\u001b[1m106/106\u001b[0m \u001b[32m━━━━━━━━━━━━━━━━━━━━\u001b[0m\u001b[37m\u001b[0m \u001b[1m0s\u001b[0m 2ms/step - accuracy: 0.8582 - loss: 0.3306 - val_accuracy: 0.8867 - val_loss: 0.3148\n",
      "Epoch 76/100\n",
      "\u001b[1m106/106\u001b[0m \u001b[32m━━━━━━━━━━━━━━━━━━━━\u001b[0m\u001b[37m\u001b[0m \u001b[1m0s\u001b[0m 2ms/step - accuracy: 0.8676 - loss: 0.3167 - val_accuracy: 0.8813 - val_loss: 0.3150\n",
      "Epoch 77/100\n",
      "\u001b[1m106/106\u001b[0m \u001b[32m━━━━━━━━━━━━━━━━━━━━\u001b[0m\u001b[37m\u001b[0m \u001b[1m0s\u001b[0m 1ms/step - accuracy: 0.8601 - loss: 0.3271 - val_accuracy: 0.8853 - val_loss: 0.3147\n",
      "Epoch 78/100\n",
      "\u001b[1m106/106\u001b[0m \u001b[32m━━━━━━━━━━━━━━━━━━━━\u001b[0m\u001b[37m\u001b[0m \u001b[1m0s\u001b[0m 2ms/step - accuracy: 0.8685 - loss: 0.3116 - val_accuracy: 0.8813 - val_loss: 0.3147\n",
      "Epoch 79/100\n",
      "\u001b[1m106/106\u001b[0m \u001b[32m━━━━━━━━━━━━━━━━━━━━\u001b[0m\u001b[37m\u001b[0m \u001b[1m0s\u001b[0m 1ms/step - accuracy: 0.8699 - loss: 0.3154 - val_accuracy: 0.8773 - val_loss: 0.3128\n",
      "Epoch 80/100\n",
      "\u001b[1m106/106\u001b[0m \u001b[32m━━━━━━━━━━━━━━━━━━━━\u001b[0m\u001b[37m\u001b[0m \u001b[1m0s\u001b[0m 1ms/step - accuracy: 0.8616 - loss: 0.3264 - val_accuracy: 0.8840 - val_loss: 0.3155\n",
      "Epoch 81/100\n",
      "\u001b[1m106/106\u001b[0m \u001b[32m━━━━━━━━━━━━━━━━━━━━\u001b[0m\u001b[37m\u001b[0m \u001b[1m0s\u001b[0m 1ms/step - accuracy: 0.8709 - loss: 0.3118 - val_accuracy: 0.8827 - val_loss: 0.3132\n",
      "Epoch 82/100\n",
      "\u001b[1m106/106\u001b[0m \u001b[32m━━━━━━━━━━━━━━━━━━━━\u001b[0m\u001b[37m\u001b[0m \u001b[1m0s\u001b[0m 1ms/step - accuracy: 0.8697 - loss: 0.3168 - val_accuracy: 0.8840 - val_loss: 0.3146\n",
      "Epoch 83/100\n",
      "\u001b[1m106/106\u001b[0m \u001b[32m━━━━━━━━━━━━━━━━━━━━\u001b[0m\u001b[37m\u001b[0m \u001b[1m0s\u001b[0m 1ms/step - accuracy: 0.8657 - loss: 0.3188 - val_accuracy: 0.8733 - val_loss: 0.3201\n",
      "Epoch 84/100\n",
      "\u001b[1m106/106\u001b[0m \u001b[32m━━━━━━━━━━━━━━━━━━━━\u001b[0m\u001b[37m\u001b[0m \u001b[1m0s\u001b[0m 1ms/step - accuracy: 0.8681 - loss: 0.3250 - val_accuracy: 0.8840 - val_loss: 0.3155\n",
      "Epoch 85/100\n",
      "\u001b[1m106/106\u001b[0m \u001b[32m━━━━━━━━━━━━━━━━━━━━\u001b[0m\u001b[37m\u001b[0m \u001b[1m0s\u001b[0m 2ms/step - accuracy: 0.8700 - loss: 0.3117 - val_accuracy: 0.8840 - val_loss: 0.3085\n",
      "Epoch 86/100\n",
      "\u001b[1m106/106\u001b[0m \u001b[32m━━━━━━━━━━━━━━━━━━━━\u001b[0m\u001b[37m\u001b[0m \u001b[1m0s\u001b[0m 2ms/step - accuracy: 0.8627 - loss: 0.3194 - val_accuracy: 0.8813 - val_loss: 0.3183\n",
      "Epoch 87/100\n",
      "\u001b[1m106/106\u001b[0m \u001b[32m━━━━━━━━━━━━━━━━━━━━\u001b[0m\u001b[37m\u001b[0m \u001b[1m0s\u001b[0m 2ms/step - accuracy: 0.8711 - loss: 0.3135 - val_accuracy: 0.8760 - val_loss: 0.3139\n",
      "Epoch 88/100\n",
      "\u001b[1m106/106\u001b[0m \u001b[32m━━━━━━━━━━━━━━━━━━━━\u001b[0m\u001b[37m\u001b[0m \u001b[1m0s\u001b[0m 2ms/step - accuracy: 0.8604 - loss: 0.3256 - val_accuracy: 0.8787 - val_loss: 0.3121\n",
      "Epoch 89/100\n",
      "\u001b[1m106/106\u001b[0m \u001b[32m━━━━━━━━━━━━━━━━━━━━\u001b[0m\u001b[37m\u001b[0m \u001b[1m0s\u001b[0m 1ms/step - accuracy: 0.8666 - loss: 0.3212 - val_accuracy: 0.8800 - val_loss: 0.3131\n",
      "Epoch 90/100\n",
      "\u001b[1m106/106\u001b[0m \u001b[32m━━━━━━━━━━━━━━━━━━━━\u001b[0m\u001b[37m\u001b[0m \u001b[1m0s\u001b[0m 1ms/step - accuracy: 0.8707 - loss: 0.3120 - val_accuracy: 0.8760 - val_loss: 0.3121\n",
      "Epoch 91/100\n",
      "\u001b[1m106/106\u001b[0m \u001b[32m━━━━━━━━━━━━━━━━━━━━\u001b[0m\u001b[37m\u001b[0m \u001b[1m0s\u001b[0m 1ms/step - accuracy: 0.8691 - loss: 0.3120 - val_accuracy: 0.8800 - val_loss: 0.3120\n",
      "Epoch 92/100\n",
      "\u001b[1m106/106\u001b[0m \u001b[32m━━━━━━━━━━━━━━━━━━━━\u001b[0m\u001b[37m\u001b[0m \u001b[1m0s\u001b[0m 1ms/step - accuracy: 0.8676 - loss: 0.3169 - val_accuracy: 0.8760 - val_loss: 0.3194\n",
      "Epoch 93/100\n",
      "\u001b[1m106/106\u001b[0m \u001b[32m━━━━━━━━━━━━━━━━━━━━\u001b[0m\u001b[37m\u001b[0m \u001b[1m0s\u001b[0m 2ms/step - accuracy: 0.8626 - loss: 0.3240 - val_accuracy: 0.8813 - val_loss: 0.3100\n",
      "Epoch 94/100\n",
      "\u001b[1m106/106\u001b[0m \u001b[32m━━━━━━━━━━━━━━━━━━━━\u001b[0m\u001b[37m\u001b[0m \u001b[1m0s\u001b[0m 2ms/step - accuracy: 0.8742 - loss: 0.3064 - val_accuracy: 0.8813 - val_loss: 0.3167\n",
      "Epoch 95/100\n",
      "\u001b[1m106/106\u001b[0m \u001b[32m━━━━━━━━━━━━━━━━━━━━\u001b[0m\u001b[37m\u001b[0m \u001b[1m0s\u001b[0m 2ms/step - accuracy: 0.8661 - loss: 0.3139 - val_accuracy: 0.8787 - val_loss: 0.3143\n",
      "Epoch 96/100\n",
      "\u001b[1m106/106\u001b[0m \u001b[32m━━━━━━━━━━━━━━━━━━━━\u001b[0m\u001b[37m\u001b[0m \u001b[1m0s\u001b[0m 2ms/step - accuracy: 0.8628 - loss: 0.3208 - val_accuracy: 0.8747 - val_loss: 0.3113\n",
      "Epoch 97/100\n",
      "\u001b[1m106/106\u001b[0m \u001b[32m━━━━━━━━━━━━━━━━━━━━\u001b[0m\u001b[37m\u001b[0m \u001b[1m0s\u001b[0m 2ms/step - accuracy: 0.8625 - loss: 0.3208 - val_accuracy: 0.8813 - val_loss: 0.3160\n",
      "Epoch 98/100\n",
      "\u001b[1m106/106\u001b[0m \u001b[32m━━━━━━━━━━━━━━━━━━━━\u001b[0m\u001b[37m\u001b[0m \u001b[1m0s\u001b[0m 2ms/step - accuracy: 0.8696 - loss: 0.3146 - val_accuracy: 0.8800 - val_loss: 0.3134\n",
      "Epoch 99/100\n",
      "\u001b[1m106/106\u001b[0m \u001b[32m━━━━━━━━━━━━━━━━━━━━\u001b[0m\u001b[37m\u001b[0m \u001b[1m0s\u001b[0m 1ms/step - accuracy: 0.8667 - loss: 0.3153 - val_accuracy: 0.8760 - val_loss: 0.3147\n",
      "Epoch 100/100\n",
      "\u001b[1m106/106\u001b[0m \u001b[32m━━━━━━━━━━━━━━━━━━━━\u001b[0m\u001b[37m\u001b[0m \u001b[1m0s\u001b[0m 1ms/step - accuracy: 0.8783 - loss: 0.3043 - val_accuracy: 0.8800 - val_loss: 0.3134\n"
     ]
    },
    {
     "data": {
      "text/plain": [
       "<keras.src.callbacks.history.History at 0x23fceb392b0>"
      ]
     },
     "execution_count": 86,
     "metadata": {},
     "output_type": "execute_result"
    }
   ],
   "source": [
    "model.fit(x_train,y_train,batch_size=64,validation_split=0.1,epochs=100)"
   ]
  },
  {
   "cell_type": "code",
   "execution_count": 87,
   "id": "e431ca08-1eb6-4305-aa3e-1af76357b608",
   "metadata": {},
   "outputs": [
    {
     "name": "stdout",
     "output_type": "stream",
     "text": [
      "\u001b[1m79/79\u001b[0m \u001b[32m━━━━━━━━━━━━━━━━━━━━\u001b[0m\u001b[37m\u001b[0m \u001b[1m0s\u001b[0m 1ms/step\n"
     ]
    }
   ],
   "source": [
    "# Predicting values of test dataset\n",
    "pred = model.predict(x_test)"
   ]
  },
  {
   "cell_type": "code",
   "execution_count": 88,
   "id": "d4b11b9b-ff24-4c68-8bf5-397e2e852c40",
   "metadata": {},
   "outputs": [],
   "source": [
    "y_pred = []\n",
    "for val in pred:\n",
    "    if val > 0.5:\n",
    "        y_pred.append(1)\n",
    "    else:\n",
    "        y_pred.append(0)"
   ]
  },
  {
   "cell_type": "code",
   "execution_count": 89,
   "id": "f3f5ae28-9efa-4d17-8ab4-b5619a59d3a1",
   "metadata": {},
   "outputs": [],
   "source": [
    "from sklearn.metrics import accuracy_score,confusion_matrix"
   ]
  },
  {
   "cell_type": "code",
   "execution_count": 90,
   "id": "985c03f2-0020-4577-99a9-a6a32eac0cda",
   "metadata": {},
   "outputs": [
    {
     "name": "stdout",
     "output_type": "stream",
     "text": [
      "[[1946   76]\n",
      " [ 267  211]]\n"
     ]
    }
   ],
   "source": [
    "cm = confusion_matrix(y_test,y_pred)\n",
    "print(cm)"
   ]
  },
  {
   "cell_type": "code",
   "execution_count": 91,
   "id": "8b813256-9268-428d-953d-f4cece6efbb9",
   "metadata": {},
   "outputs": [
    {
     "data": {
      "text/plain": [
       "0.8628"
      ]
     },
     "execution_count": 91,
     "metadata": {},
     "output_type": "execute_result"
    }
   ],
   "source": [
    "accuracy_score(y_test,y_pred)"
   ]
  }
 ],
 "metadata": {
  "kernelspec": {
   "display_name": "Python 3 (ipykernel)",
   "language": "python",
   "name": "python3"
  },
  "language_info": {
   "codemirror_mode": {
    "name": "ipython",
    "version": 3
   },
   "file_extension": ".py",
   "mimetype": "text/x-python",
   "name": "python",
   "nbconvert_exporter": "python",
   "pygments_lexer": "ipython3",
   "version": "3.11.5"
  }
 },
 "nbformat": 4,
 "nbformat_minor": 5
}
