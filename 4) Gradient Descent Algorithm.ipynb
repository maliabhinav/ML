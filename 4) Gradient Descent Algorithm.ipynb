{
 "cells": [
  {
   "cell_type": "code",
   "execution_count": 13,
   "id": "b892a039-e2ff-4880-80cb-3acb494686f6",
   "metadata": {},
   "outputs": [
    {
     "name": "stdout",
     "output_type": "stream",
     "text": [
      "local minima occurs at :  -2.9995746470413485\n",
      "minimum value of function is:  1.8092513943361614e-07\n"
     ]
    }
   ],
   "source": [
    "def function(x):\n",
    "    return (x+3) **2\n",
    "def gradient(x):\n",
    "    return 2* (x+3)\n",
    "x=2\n",
    "learning_rate=0.1\n",
    "precision=0.0001\n",
    "while True:\n",
    "    grad=gradient(x)\n",
    "    xnew= x - learning_rate * grad\n",
    "    \n",
    "    if abs(xnew - x ) < precision:\n",
    "        break\n",
    "    x = xnew\n",
    "print(\"local minima occurs at : \",x)\n",
    "print(\"minimum value of function is: \",function(x))"
   ]
  },
  {
   "cell_type": "code",
   "execution_count": null,
   "id": "0d93cd77-6dc2-48e5-af6f-cebfff327eac",
   "metadata": {},
   "outputs": [],
   "source": []
  }
 ],
 "metadata": {
  "kernelspec": {
   "display_name": "Python 3 (ipykernel)",
   "language": "python",
   "name": "python3"
  },
  "language_info": {
   "codemirror_mode": {
    "name": "ipython",
    "version": 3
   },
   "file_extension": ".py",
   "mimetype": "text/x-python",
   "name": "python",
   "nbconvert_exporter": "python",
   "pygments_lexer": "ipython3",
   "version": "3.11.5"
  }
 },
 "nbformat": 4,
 "nbformat_minor": 5
}
